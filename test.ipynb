{
 "cells": [
  {
   "cell_type": "code",
   "execution_count": null,
   "id": "39b9cc6e",
   "metadata": {},
   "outputs": [],
   "source": [
    "import nibabel as nib\n",
    "import matplotlib.pyplot as plt\n",
    "import numpy as np"
   ]
  },
  {
   "cell_type": "code",
   "execution_count": 18,
   "id": "d4237c37",
   "metadata": {},
   "outputs": [
    {
     "name": "stdout",
     "output_type": "stream",
     "text": [
      "Image data shape: (193, 229, 193)\n",
      "Image data type: float64\n",
      "Affine transformation matrix:\n",
      "[[   1.    0.   -0.  -96.]\n",
      " [   0.    1.   -0. -132.]\n",
      " [   0.    0.    1.  -78.]\n",
      " [   0.    0.    0.    1.]]\n"
     ]
    }
   ],
   "source": [
    "# Specify the path to your .nii file\n",
    "nii_file_path = 'data/00039_1_SEG_3_PREP_MNI.nii.gz'\n",
    "\n",
    "# Load the NIfTI image\n",
    "img = nib.load(nii_file_path)\n",
    "\n",
    "# Access the image data as a NumPy array\n",
    "# .get_fdata() returns the image data as a floating-point NumPy array\n",
    "# .dataobj provides a memory-mapped object, which is useful for large files\n",
    "image_data = img.get_fdata()\n",
    "\n",
    "# You can also access the image header and affine transformation matrix\n",
    "header = img.header\n",
    "affine = img.affine\n",
    "\n",
    "# Print some information (optional)\n",
    "print(f\"Image data shape: {image_data.shape}\")\n",
    "print(f\"Image data type: {image_data.dtype}\")\n",
    "print(f\"Affine transformation matrix:\\n{affine}\")"
   ]
  },
  {
   "cell_type": "code",
   "execution_count": 19,
   "id": "96e2ab16",
   "metadata": {},
   "outputs": [
    {
     "ename": "NameError",
     "evalue": "name 'plt' is not defined",
     "output_type": "error",
     "traceback": [
      "\u001b[31m---------------------------------------------------------------------------\u001b[39m",
      "\u001b[31mNameError\u001b[39m                                 Traceback (most recent call last)",
      "\u001b[36mCell\u001b[39m\u001b[36m \u001b[39m\u001b[32mIn[19]\u001b[39m\u001b[32m, line 2\u001b[39m\n\u001b[32m      1\u001b[39m test = img.get_fdata()[:,:,\u001b[32m69\u001b[39m]  \u001b[38;5;66;03m# Show Random slice\u001b[39;00m\n\u001b[32m----> \u001b[39m\u001b[32m2\u001b[39m \u001b[43mplt\u001b[49m.imshow(test)\n\u001b[32m      3\u001b[39m plt.show()\n",
      "\u001b[31mNameError\u001b[39m: name 'plt' is not defined"
     ]
    }
   ],
   "source": [
    "test = img.get_fdata()[:,:,69]  # Show Random slice\n",
    "plt.imshow(test)\n",
    "plt.show()"
   ]
  }
 ],
 "metadata": {
  "kernelspec": {
   "display_name": "venv",
   "language": "python",
   "name": "python3"
  },
  "language_info": {
   "codemirror_mode": {
    "name": "ipython",
    "version": 3
   },
   "file_extension": ".py",
   "mimetype": "text/x-python",
   "name": "python",
   "nbconvert_exporter": "python",
   "pygments_lexer": "ipython3",
   "version": "3.11.1"
  }
 },
 "nbformat": 4,
 "nbformat_minor": 5
}
